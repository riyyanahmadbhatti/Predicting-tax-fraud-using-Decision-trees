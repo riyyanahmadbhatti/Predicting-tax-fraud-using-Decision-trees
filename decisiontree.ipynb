{
 "cells": [
  {
   "cell_type": "code",
   "execution_count": null,
   "metadata": {},
   "outputs": [],
   "source": [
    "import pandas as pd\n",
    "from sklearn.model_selection import train_test_split\n",
    "from sklearn.preprocessing import MinMaxScaler\n",
    "from sklearn.tree import DecisionTreeClassifier\n",
    "from sklearn.metrics import classification_report\n",
    "df=pd.read_csv(\"Q2_Fraud_check.csv\")\n",
    "df"
   ]
  },
  {
   "cell_type": "code",
   "execution_count": null,
   "metadata": {},
   "outputs": [],
   "source": [
    "#droping empty rows\n",
    "df.dropna(subset=['Undergrad'], inplace=True)\n",
    "df.dropna(subset=['Marital.Status'], inplace=True)\n",
    "df.dropna(subset=['Taxable.Income'], inplace=True)\n",
    "df.dropna(subset=['City.Population'], inplace=True)\n",
    "df.dropna(subset=['Work.Experience'], inplace=True)\n",
    "df.dropna(subset=['Urban'], inplace=True)\n",
    "df"
   ]
  },
  {
   "cell_type": "code",
   "execution_count": null,
   "metadata": {},
   "outputs": [],
   "source": [
    "# Categorical Variable Handling (One-Hot Encoding)\n",
    "df = pd.get_dummies(df, columns=['Undergrad', 'Marital.Status', 'Urban'], drop_first=True)\n",
    "\n",
    "# Target Variable Transformation\n",
    "df['Taxable.Income'] = df['Taxable.Income'].apply(lambda x: 0 if x <= 30000 else 1)\n",
    "\n",
    "# Feature Scaling\n",
    "scaler = MinMaxScaler()\n",
    "df[['Work.Experience', 'City.Population']] = scaler.fit_transform(df[['Work.Experience', 'City.Population']])\n",
    "\n",
    "# Data Splitting\n",
    "X = df.drop('Taxable.Income', axis=1)\n",
    "y = df['Taxable.Income']\n",
    "X_train, X_test, y_train, y_test = train_test_split(X, y, test_size=0.5, random_state=30)\n",
    "\n",
    "# Decision Tree Model\n",
    "model = DecisionTreeClassifier(random_state=42)\n",
    "model.fit(X_train, y_train)\n",
    "\n",
    "# Model Evaluation\n",
    "y_pred = model.predict(X_test)\n",
    "\n",
    "# Display the classification report for model evaluation\n",
    "print(\"Classification Report:\")\n",
    "print(classification_report(y_test, y_pred))"
   ]
  },
  {
   "cell_type": "code",
   "execution_count": null,
   "metadata": {},
   "outputs": [],
   "source": [
    "from sklearn.model_selection import RandomizedSearchCV\n",
    "from scipy.stats import randint\n",
    "\n",
    "# Define hyperparameter search space\n",
    "param_dist = {\n",
    "    'criterion': ['gini', 'entropy'],\n",
    "    'max_depth': [None, 5, 10, 15],\n",
    "    'min_samples_split': randint(2, 11),\n",
    "    'min_samples_leaf': randint(1, 5)\n",
    "}\n",
    "\n",
    "# Initialize RandomizedSearchCV\n",
    "random_search = RandomizedSearchCV(\n",
    "    DecisionTreeClassifier(random_state=42),  # Decision Tree Classifier\n",
    "    param_distributions=param_dist,           # Hyperparameter search space\n",
    "    n_iter=10,                                # Number of random samples\n",
    "    cv=5,                                    # Cross-validation folds\n",
    "    scoring='accuracy',                      # Scoring metric\n",
    "    random_state=42                           # Random seed for reproducibility\n",
    ")\n",
    "\n",
    "# Perform hyperparameter tuning using RandomizedSearchCV\n",
    "random_search.fit(X_train, y_train)\n",
    "\n",
    "# Get the best hyperparameters and the best model\n",
    "best_params_random = random_search.best_params_\n",
    "best_model_random = random_search.best_estimator_\n",
    "\n",
    "# Evaluate the tuned model using RandomizedSearchCV\n",
    "y_pred_tuned_random = best_model_random.predict(X_test)\n",
    "\n",
    "# Display the classification report for the tuned model\n",
    "print(\"Randomized Tuned Decision Tree - Classification Report:\")\n",
    "print(classification_report(y_test, y_pred_tuned_random))"
   ]
  }
 ],
 "metadata": {
  "language_info": {
   "name": "python"
  }
 },
 "nbformat": 4,
 "nbformat_minor": 2
}
